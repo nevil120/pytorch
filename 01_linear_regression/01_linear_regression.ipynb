{
 "cells": [
  {
   "cell_type": "markdown",
   "metadata": {
    "id": "N8LsPXZti9Sw"
   },
   "source": [
    "# 01. Linear Regression"
   ]
  },
  {
   "cell_type": "code",
   "execution_count": 1,
   "metadata": {
    "id": "Glu2fM4dkNlx"
   },
   "outputs": [],
   "source": [
    "# Import necessary libraries\n",
    "import torch\n",
    "import torch.nn as nn\n",
    "\n",
    "import matplotlib.pyplot as plt\n",
    "from sklearn.model_selection import train_test_split"
   ]
  },
  {
   "cell_type": "code",
   "execution_count": 2,
   "metadata": {
    "colab": {
     "base_uri": "https://localhost:8080/",
     "height": 36
    },
    "executionInfo": {
     "elapsed": 39,
     "status": "ok",
     "timestamp": 1748451079484,
     "user": {
      "displayName": "Nevil Patel",
      "userId": "00822694795505902856"
     },
     "user_tz": 300
    },
    "id": "LqKhXY26m31s",
    "outputId": "f56936ca-8f01-4b67-ee1e-eaf3590a423c"
   },
   "outputs": [
    {
     "name": "stdout",
     "output_type": "stream",
     "text": [
      "mps\n"
     ]
    }
   ],
   "source": [
    "# Setup device-agnostic code\n",
    "if torch.cuda.is_available():\n",
    "  device = 'cuda'\n",
    "elif torch.backends.mps.is_available():\n",
    "  device = 'mps'\n",
    "else:\n",
    "  device = 'cpu'\n",
    "\n",
    "print(device)"
   ]
  },
  {
   "cell_type": "markdown",
   "metadata": {
    "id": "g7HUhxCxjeBx"
   },
   "source": [
    "## 1. Create a straight line dataset using the linear regression formula (`weight * X + bias`).\n",
    "  * Set `weight=0.3` and `bias=0.9` there should be at least 100 datapoints total.\n",
    "  * Split the data into 80% training, 20% testing.\n",
    "  * Plot the training and testing data so it becomes visual.\n",
    "\n",
    "Your output of the below cell should look something like:\n",
    "```\n",
    "Number of X samples: 100\n",
    "Number of y samples: 100\n",
    "First 10 X & y samples:\n",
    "X: tensor([0.0000, 0.0100, 0.0200, 0.0300, 0.0400, 0.0500, 0.0600, 0.0700, 0.0800,\n",
    "        0.0900])\n",
    "y: tensor([0.9000, 0.9030, 0.9060, 0.9090, 0.9120, 0.9150, 0.9180, 0.9210, 0.9240,\n",
    "        0.9270])\n",
    "```\n",
    "\n",
    "Of course the numbers in `X` and `y` may be different but ideally they're created using the linear regression formula."
   ]
  },
  {
   "cell_type": "code",
   "execution_count": 3,
   "metadata": {
    "colab": {
     "base_uri": "https://localhost:8080/"
    },
    "executionInfo": {
     "elapsed": 21,
     "status": "ok",
     "timestamp": 1748452719684,
     "user": {
      "displayName": "Nevil Patel",
      "userId": "00822694795505902856"
     },
     "user_tz": 300
    },
    "id": "KbDG5MV7jhvE",
    "outputId": "33f26d3a-5be4-4e24-c0a6-c11601b850c4"
   },
   "outputs": [
    {
     "name": "stdout",
     "output_type": "stream",
     "text": [
      "Number of X samples: 100\n",
      "Number of y samples: 100\n",
      "First 10 X & y samples:\n",
      "X: tensor([[0.0000],\n",
      "        [0.0100],\n",
      "        [0.0200],\n",
      "        [0.0300],\n",
      "        [0.0400],\n",
      "        [0.0500],\n",
      "        [0.0600],\n",
      "        [0.0700],\n",
      "        [0.0800],\n",
      "        [0.0900]])\n",
      "y: tensor([[0.9000],\n",
      "        [0.9030],\n",
      "        [0.9060],\n",
      "        [0.9090],\n",
      "        [0.9120],\n",
      "        [0.9150],\n",
      "        [0.9180],\n",
      "        [0.9210],\n",
      "        [0.9240],\n",
      "        [0.9270]])\n"
     ]
    }
   ],
   "source": [
    "# Create the data parameters\n",
    "weight = 0.3\n",
    "bias = 0.9\n",
    "\n",
    "# Make X and y using linear regression feature\n",
    "X = torch.arange(0.0, 1.0, 0.01).unsqueeze(dim=1)\n",
    "y = X * weight + bias\n",
    "\n",
    "print(f\"Number of X samples: {len(X)}\")\n",
    "print(f\"Number of y samples: {len(y)}\")\n",
    "print(f\"First 10 X & y samples:\\nX: {X[:10]}\\ny: {y[:10]}\")"
   ]
  },
  {
   "cell_type": "code",
   "execution_count": 4,
   "metadata": {
    "id": "GlwtT1djkmLw"
   },
   "outputs": [],
   "source": [
    "# Split the data into training and testing\n",
    "X_train, X_test, y_train, y_test = train_test_split (X, y, test_size=0.2, shuffle=False)"
   ]
  },
  {
   "cell_type": "code",
   "execution_count": 5,
   "metadata": {
    "colab": {
     "base_uri": "https://localhost:8080/",
     "height": 599
    },
    "executionInfo": {
     "elapsed": 212,
     "status": "ok",
     "timestamp": 1748452728459,
     "user": {
      "displayName": "Nevil Patel",
      "userId": "00822694795505902856"
     },
     "user_tz": 300
    },
    "id": "29iQZFNhlYJ-",
    "outputId": "fd5564ba-c2eb-4a63-bdf2-513c1a19ce62"
   },
   "outputs": [
    {
     "data": {
      "image/png": "[encoded data removed]",
      "text/plain": [
       "<Figure size 1000x700 with 1 Axes>"
      ]
     },
     "metadata": {},
     "output_type": "display_data"
    }
   ],
   "source": [
    "# Plot the training and testing data\n",
    "def plot_predictions(train_data=X_train,\n",
    "                     train_labels=y_train,\n",
    "                     test_data=X_test,\n",
    "                     test_labels=y_test,\n",
    "                     predictions=None):\n",
    "  \"\"\"\n",
    "  Plots training data, test data and compares predictions.\n",
    "  \"\"\"\n",
    "  plt.figure(figsize=(10, 7))\n",
    "\n",
    "  # Plot training data in blue\n",
    "  plt.scatter(train_data, train_labels, c=\"b\", s=4, label=\"Training data\")\n",
    "\n",
    "  # Plot test data in green\n",
    "  plt.scatter(test_data, test_labels, c=\"g\", s=4, label=\"Testing data\")\n",
    "\n",
    "  if predictions is not None:\n",
    "    # Plot the predictions in red (predictions were made on the test data)\n",
    "    plt.scatter(test_data, predictions, c=\"r\", s=4, label=\"Predictions\")\n",
    "\n",
    "  # Show the legend\n",
    "  plt.legend(prop={\"size\": 14});\n",
    "\n",
    "\n",
    "plot_predictions()"
   ]
  },
  {
   "cell_type": "markdown",
   "metadata": {
    "id": "ImZoe3v8jif8"
   },
   "source": [
    "## 2. Build a PyTorch model by subclassing `nn.Module`.\n",
    "  * Inside should be a randomly initialized `nn.Parameter()` with `requires_grad=True`, one for `weights` and one for `bias`.\n",
    "  * Implement the `forward()` method to compute the linear regression function you used to create the dataset in 1.\n",
    "  * Once you've constructed the model, make an instance of it and check its `state_dict()`.\n",
    "  * **Note:** If you'd like to use `nn.Linear()` instead of `nn.Parameter()` you can."
   ]
  },
  {
   "cell_type": "code",
   "execution_count": 24,
   "metadata": {
    "id": "qzd__Y5rjtB8"
   },
   "outputs": [],
   "source": [
    "# Create PyTorch linear regression model by subclassing nn.Module\n",
    "class LinearRegressionModel(nn.Module):\n",
    "  def __init__(self):\n",
    "    super().__init__()\n",
    "    self.linear_layer = nn.Linear(in_features = 1, out_features=1)\n",
    "\n",
    "  def forward(self, X):\n",
    "    return self.linear_layer(X)"
   ]
  },
  {
   "cell_type": "code",
   "execution_count": 30,
   "metadata": {
    "colab": {
     "base_uri": "https://localhost:8080/"
    },
    "executionInfo": {
     "elapsed": 12,
     "status": "ok",
     "timestamp": 1748453084776,
     "user": {
      "displayName": "Nevil Patel",
      "userId": "00822694795505902856"
     },
     "user_tz": 300
    },
    "id": "5LdcDnmOmyQ2",
    "outputId": "73f7f5ab-d781-4ccf-deb6-d17c1335095c"
   },
   "outputs": [
    {
     "data": {
      "text/plain": [
       "LinearRegressionModel(\n",
       "  (linear_layer): Linear(in_features=1, out_features=1, bias=True)\n",
       ")"
      ]
     },
     "execution_count": 30,
     "metadata": {},
     "output_type": "execute_result"
    }
   ],
   "source": [
    "# Instantiate the model and put it to the target device\n",
    "linear_regression_model = LinearRegressionModel().to(device)\n",
    "linear_regression_model"
   ]
  },
  {
   "cell_type": "markdown",
   "metadata": {
    "id": "G6nYOrJhjtfu"
   },
   "source": [
    "## 3. Create a loss function and optimizer using `nn.L1Loss()` and `torch.optim.SGD(params, lr)` respectively.\n",
    "  * Set the learning rate of the optimizer to be 0.01 and the parameters to optimize should be the model parameters from the model you created in 2.\n",
    "  * Write a training loop to perform the appropriate training steps for 300 epochs.\n",
    "  * The training loop should test the model on the test dataset every 20 epochs."
   ]
  },
  {
   "cell_type": "code",
   "execution_count": 31,
   "metadata": {
    "id": "ltvoZ-FWjv1j"
   },
   "outputs": [],
   "source": [
    "# Create the loss function and optimizer\n",
    "loss_fn = nn.L1Loss()\n",
    "optimizer = torch.optim.SGD(linear_regression_model.parameters(), lr=0.01)"
   ]
  },
  {
   "cell_type": "code",
   "execution_count": 32,
   "metadata": {
    "colab": {
     "base_uri": "https://localhost:8080/"
    },
    "executionInfo": {
     "elapsed": 249,
     "status": "ok",
     "timestamp": 1748453118621,
     "user": {
      "displayName": "Nevil Patel",
      "userId": "00822694795505902856"
     },
     "user_tz": 300
    },
    "id": "xpE83NvNnkdV",
    "outputId": "534a2a59-34e0-4411-ea33-70083c4044ee"
   },
   "outputs": [
    {
     "name": "stdout",
     "output_type": "stream",
     "text": [
      "Epoch: 0 | Train loss: 1.237 | Test loss: 1.128\n",
      "Epoch: 20 | Train loss: 1.005 | Test loss: 0.858\n",
      "Epoch: 40 | Train loss: 0.774 | Test loss: 0.587\n",
      "Epoch: 60 | Train loss: 0.543 | Test loss: 0.316\n",
      "Epoch: 80 | Train loss: 0.312 | Test loss: 0.046\n",
      "Epoch: 100 | Train loss: 0.144 | Test loss: 0.169\n",
      "Epoch: 120 | Train loss: 0.117 | Test loss: 0.229\n",
      "Epoch: 140 | Train loss: 0.108 | Test loss: 0.238\n",
      "Epoch: 160 | Train loss: 0.101 | Test loss: 0.231\n",
      "Epoch: 180 | Train loss: 0.094 | Test loss: 0.217\n",
      "Epoch: 200 | Train loss: 0.087 | Test loss: 0.201\n",
      "Epoch: 220 | Train loss: 0.080 | Test loss: 0.186\n",
      "Epoch: 240 | Train loss: 0.073 | Test loss: 0.171\n",
      "Epoch: 260 | Train loss: 0.066 | Test loss: 0.155\n",
      "Epoch: 280 | Train loss: 0.060 | Test loss: 0.140\n",
      "Epoch: 300 | Train loss: 0.053 | Test loss: 0.124\n",
      "Epoch: 320 | Train loss: 0.046 | Test loss: 0.107\n",
      "Epoch: 340 | Train loss: 0.039 | Test loss: 0.091\n",
      "Epoch: 360 | Train loss: 0.032 | Test loss: 0.075\n",
      "Epoch: 380 | Train loss: 0.025 | Test loss: 0.059\n",
      "Epoch: 400 | Train loss: 0.018 | Test loss: 0.043\n",
      "Epoch: 420 | Train loss: 0.012 | Test loss: 0.026\n",
      "Epoch: 440 | Train loss: 0.005 | Test loss: 0.010\n",
      "Epoch: 460 | Train loss: 0.006 | Test loss: 0.004\n",
      "Epoch: 480 | Train loss: 0.006 | Test loss: 0.004\n"
     ]
    }
   ],
   "source": [
    "# Training loop\n",
    "\n",
    "# Train model for 500 epochs\n",
    "epochs = 500\n",
    "\n",
    "# Send data to target device\n",
    "X_train = X_train.to(device)\n",
    "y_train = y_train.to(device)\n",
    "\n",
    "for epoch in range(epochs):\n",
    "  ### Training\n",
    "\n",
    "  # Put model in train mode\n",
    "  linear_regression_model.train()\n",
    "\n",
    "  # 1. Forward pass\n",
    "  y_preds = linear_regression_model(X_train)\n",
    "\n",
    "  # 2. Calculate loss\n",
    "  loss = loss_fn(y_preds, y_train)\n",
    "\n",
    "  # 3. Zero gradients\n",
    "  optimizer.zero_grad()\n",
    "\n",
    "  # 4. Backpropagation\n",
    "  loss.backward()\n",
    "\n",
    "  # 5. Step the optimizer\n",
    "  optimizer.step()\n",
    "\n",
    "  ### Perform testing every 20 epochs\n",
    "  if epoch % 20 == 0:\n",
    "\n",
    "    # Put model in evaluation mode and setup inference context\n",
    "    linear_regression_model.eval()\n",
    "    X_test = X_test.to(device)\n",
    "    y_test = y_test.to(device)\n",
    "\n",
    "    with torch.inference_mode():\n",
    "      # 1. Forward pass\n",
    "      y_test_preds = linear_regression_model(X_test)\n",
    "\n",
    "      # 2. Calculate test loss\n",
    "      test_loss = loss_fn(y_test_preds, y_test)\n",
    "\n",
    "      # Print out what's happening\n",
    "      print(f\"Epoch: {epoch} | Train loss: {loss:.3f} | Test loss: {test_loss:.3f}\")"
   ]
  },
  {
   "cell_type": "markdown",
   "metadata": {
    "id": "x4j4TM18jwa7"
   },
   "source": [
    "## 4. Make predictions with the trained model on the test data.\n",
    "  * Visualize these predictions against the original training and testing data (**note:** you may need to make sure the predictions are *not* on the GPU if you want to use non-CUDA-enabled libraries such as matplotlib to plot)."
   ]
  },
  {
   "cell_type": "code",
   "execution_count": 33,
   "metadata": {
    "id": "bbMPK5Qjjyx_"
   },
   "outputs": [],
   "source": [
    "# Make predictions with the model\n",
    "linear_regression_model.eval()\n",
    "with torch.inference_mode():\n",
    "  y_test_preds = linear_regression_model(X_test)"
   ]
  },
  {
   "cell_type": "code",
   "execution_count": 34,
   "metadata": {
    "colab": {
     "base_uri": "https://localhost:8080/",
     "height": 599
    },
    "executionInfo": {
     "elapsed": 208,
     "status": "ok",
     "timestamp": 1748453126251,
     "user": {
      "displayName": "Nevil Patel",
      "userId": "00822694795505902856"
     },
     "user_tz": 300
    },
    "id": "K3BdmQaDpFo8",
    "outputId": "b8e5e2ab-c93b-4abb-bad1-580e6ad63498"
   },
   "outputs": [
    {
     "data": {
      "image/png": "[encoded data removed]",
      "text/plain": [
       "<Figure size 1000x700 with 1 Axes>"
      ]
     },
     "metadata": {},
     "output_type": "display_data"
    }
   ],
   "source": [
    "# Plot the predictions (these may need to be on a specific device)\n",
    "plot_predictions(predictions=y_test_preds.cpu())"
   ]
  },
  {
   "cell_type": "markdown",
   "metadata": {
    "id": "s2OnlMWKjzX8"
   },
   "source": [
    "## 5. Save your trained model's `state_dict()` to file.\n",
    "  * Create a new instance of your model class you made in 2. and load in the `state_dict()` you just saved to it.\n",
    "  * Perform predictions on your test data with the loaded model and confirm they match the original model predictions from 4."
   ]
  },
  {
   "cell_type": "code",
   "execution_count": 35,
   "metadata": {
    "colab": {
     "base_uri": "https://localhost:8080/"
    },
    "executionInfo": {
     "elapsed": 15,
     "status": "ok",
     "timestamp": 1748453264273,
     "user": {
      "displayName": "Nevil Patel",
      "userId": "00822694795505902856"
     },
     "user_tz": 300
    },
    "id": "hgxhgD14qr-i",
    "outputId": "f994ec3b-32f6-4685-eb8d-2f869d102aa8"
   },
   "outputs": [
    {
     "name": "stdout",
     "output_type": "stream",
     "text": [
      "Saving model to: models/01_linear_regression.pth\n"
     ]
    }
   ],
   "source": [
    "from pathlib import Path\n",
    "\n",
    "# 1. Create models directory\n",
    "MODEL_PATH = Path(\"models\")\n",
    "MODEL_PATH.mkdir(parents=True, exist_ok=True)\n",
    "\n",
    "# 2. Create model save path\n",
    "MODEL_NAME = \"01_linear_regression.pth\"\n",
    "MODEL_SAVE_PATH = MODEL_PATH / MODEL_NAME\n",
    "\n",
    "# 3. Save the model state dict\n",
    "print(f\"Saving model to: {MODEL_SAVE_PATH}\")\n",
    "torch.save(obj=linear_regression_model.state_dict(), f=MODEL_SAVE_PATH)"
   ]
  },
  {
   "cell_type": "code",
   "execution_count": 36,
   "metadata": {
    "colab": {
     "base_uri": "https://localhost:8080/"
    },
    "executionInfo": {
     "elapsed": 21,
     "status": "ok",
     "timestamp": 1748453377570,
     "user": {
      "displayName": "Nevil Patel",
      "userId": "00822694795505902856"
     },
     "user_tz": 300
    },
    "id": "P9vTgiLRrJ7T",
    "outputId": "3b25627e-6261-4d48-a80f-ef37881742cb"
   },
   "outputs": [
    {
     "data": {
      "text/plain": [
       "LinearRegressionModel(\n",
       "  (linear_layer): Linear(in_features=1, out_features=1, bias=True)\n",
       ")"
      ]
     },
     "execution_count": 36,
     "metadata": {},
     "output_type": "execute_result"
    }
   ],
   "source": [
    "# Create new instance of model and load saved state dict (make sure to put it on the target device)\n",
    "loaded_model = LinearRegressionModel()\n",
    "\n",
    "loaded_model.load_state_dict(torch.load(MODEL_SAVE_PATH))\n",
    "\n",
    "loaded_model.to(device)"
   ]
  },
  {
   "cell_type": "code",
   "execution_count": 37,
   "metadata": {
    "colab": {
     "base_uri": "https://localhost:8080/"
    },
    "executionInfo": {
     "elapsed": 46,
     "status": "ok",
     "timestamp": 1748453428891,
     "user": {
      "displayName": "Nevil Patel",
      "userId": "00822694795505902856"
     },
     "user_tz": 300
    },
    "id": "8UGX3VebrVtI",
    "outputId": "d75313e0-9173-4241-acf1-951636f962b4"
   },
   "outputs": [
    {
     "data": {
      "text/plain": [
       "tensor([[True],\n",
       "        [True],\n",
       "        [True],\n",
       "        [True],\n",
       "        [True],\n",
       "        [True],\n",
       "        [True],\n",
       "        [True],\n",
       "        [True],\n",
       "        [True],\n",
       "        [True],\n",
       "        [True],\n",
       "        [True],\n",
       "        [True],\n",
       "        [True],\n",
       "        [True],\n",
       "        [True],\n",
       "        [True],\n",
       "        [True],\n",
       "        [True]], device='mps:0')"
      ]
     },
     "execution_count": 37,
     "metadata": {},
     "output_type": "execute_result"
    }
   ],
   "source": [
    "# Make predictions with loaded model and compare them to the previous\n",
    "loaded_model.eval()\n",
    "with torch.inference_mode():\n",
    "    loaded_model_preds = loaded_model(X_test)\n",
    "\n",
    "y_test_preds == loaded_model_preds"
   ]
  }
 ],
 "metadata": {
  "accelerator": "GPU",
  "colab": {
   "provenance": []
  },
  "kernelspec": {
   "display_name": "Python 3 (ipykernel)",
   "language": "python",
   "name": "python3"
  },
  "language_info": {
   "codemirror_mode": {
    "name": "ipython",
    "version": 3
   },
   "file_extension": ".py",
   "mimetype": "text/x-python",
   "name": "python",
   "nbconvert_exporter": "python",
   "pygments_lexer": "ipython3",
   "version": "3.11.7"
  }
 },
 "nbformat": 4,
 "nbformat_minor": 1
}
