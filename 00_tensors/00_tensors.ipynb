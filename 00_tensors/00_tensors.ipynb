{
 "cells": [
  {
   "cell_type": "markdown",
   "metadata": {
    "id": "__iXqqz-ioUJ"
   },
   "source": [
    "### 1. Create a random tensor with shape `(7, 7)`.\n"
   ]
  },
  {
   "cell_type": "code",
   "execution_count": null,
   "metadata": {
    "colab": {
     "base_uri": "https://localhost:8080/"
    },
    "executionInfo": {
     "elapsed": 103,
     "status": "ok",
     "timestamp": 1748445514746,
     "user": {
      "displayName": "Nevil Patel",
      "userId": "00822694795505902856"
     },
     "user_tz": 300
    },
    "id": "6pUq9Dc8i2L7",
    "outputId": "f296050b-cbd6-4041-dced-b3293e53dbd5"
   },
   "outputs": [
    {
     "data": {
      "text/plain": [
       "tensor([[0.6606, 0.8220, 0.3775, 0.0021, 0.1897, 0.7226, 0.8055],\n",
       "        [0.0988, 0.0345, 0.0334, 0.9822, 0.1996, 0.4990, 0.4531],\n",
       "        [0.1448, 0.6629, 0.2768, 0.7158, 0.1279, 0.5074, 0.1255],\n",
       "        [0.7425, 0.1547, 0.9872, 0.2698, 0.9450, 0.0045, 0.7499],\n",
       "        [0.1595, 0.9490, 0.8439, 0.7348, 0.1810, 0.3228, 0.9957],\n",
       "        [0.4829, 0.1756, 0.2491, 0.6329, 0.4394, 0.6591, 0.0463],\n",
       "        [0.2689, 0.1980, 0.1299, 0.8454, 0.8975, 0.0268, 0.9650]])"
      ]
     },
     "execution_count": 3,
     "metadata": {},
     "output_type": "execute_result"
    }
   ],
   "source": [
    "# Import torch\n",
    "import torch\n",
    "\n",
    "# Create random tensor\n",
    "random_tensor_1 = torch.rand(size=(7, 7))\n",
    "random_tensor_1"
   ]
  },
  {
   "cell_type": "markdown",
   "metadata": {
    "id": "9-XxvRLfiqkR"
   },
   "source": [
    "### 2. Perform a matrix multiplication on the tensor from 2 with another random tensor with shape `(1, 7)` (hint: you may have to transpose the second tensor)."
   ]
  },
  {
   "cell_type": "code",
   "execution_count": null,
   "metadata": {
    "colab": {
     "base_uri": "https://localhost:8080/"
    },
    "executionInfo": {
     "elapsed": 44,
     "status": "ok",
     "timestamp": 1748445617417,
     "user": {
      "displayName": "Nevil Patel",
      "userId": "00822694795505902856"
     },
     "user_tz": 300
    },
    "id": "NcLqR0Sbi_vT",
    "outputId": "60111ed7-db11-4851-c69c-3663e1dbce76"
   },
   "outputs": [
    {
     "data": {
      "text/plain": [
       "tensor([[0.9793],\n",
       "        [0.7114],\n",
       "        [1.0048],\n",
       "        [1.0924],\n",
       "        [1.5838],\n",
       "        [0.7342],\n",
       "        [1.1295]])"
      ]
     },
     "execution_count": 5,
     "metadata": {},
     "output_type": "execute_result"
    }
   ],
   "source": [
    "# Create another random tensor\n",
    "random_tensor_2 = torch.rand(size=(1, 7))\n",
    "random_tensor_2\n",
    "\n",
    "# Perform matrix multiplication\n",
    "random_tensor_1 @ random_tensor_2.T"
   ]
  },
  {
   "cell_type": "markdown",
   "metadata": {
    "id": "eiutdKUFiryU"
   },
   "source": [
    "### 3. Set the random seed to `0` and do 2 & 3 over again.\n",
    "\n",
    "The output should be:\n",
    "```\n",
    "(tensor([[1.8542],\n",
    "         [1.9611],\n",
    "         [2.2884],\n",
    "         [3.0481],\n",
    "         [1.7067],\n",
    "         [2.5290],\n",
    "         [1.7989]]), torch.Size([7, 1]))\n",
    "```"
   ]
  },
  {
   "cell_type": "code",
   "execution_count": null,
   "metadata": {
    "colab": {
     "base_uri": "https://localhost:8080/"
    },
    "executionInfo": {
     "elapsed": 31,
     "status": "ok",
     "timestamp": 1748445643147,
     "user": {
      "displayName": "Nevil Patel",
      "userId": "00822694795505902856"
     },
     "user_tz": 300
    },
    "id": "D-lOWI_1jRMm",
    "outputId": "2c187df7-e5fe-4ed8-f9eb-45453e202e1a"
   },
   "outputs": [
    {
     "data": {
      "text/plain": [
       "tensor([[1.8542],\n",
       "        [1.9611],\n",
       "        [2.2884],\n",
       "        [3.0481],\n",
       "        [1.7067],\n",
       "        [2.5290],\n",
       "        [1.7989]])"
      ]
     },
     "execution_count": 6,
     "metadata": {},
     "output_type": "execute_result"
    }
   ],
   "source": [
    "# Set manual seed\n",
    "torch.manual_seed(0)\n",
    "\n",
    "# Create two random tensors\n",
    "random_tensor_1 = torch.rand(size=(7, 7))\n",
    "random_tensor_2 = torch.rand(size=(1, 7))\n",
    "\n",
    "# Matrix multiply tensors\n",
    "random_tensor_1 @ random_tensor_2.T"
   ]
  },
  {
   "cell_type": "markdown",
   "metadata": {
    "id": "ezY6ks9Cis37"
   },
   "source": [
    "### 4. Speaking of random seeds, we saw how to set it with `torch.manual_seed()` but is there a GPU equivalent? (hint: you'll need to look into the documentation for `torch.cuda` for this one)\n",
    "  * If there is, set the GPU random seed to `1234`."
   ]
  },
  {
   "cell_type": "code",
   "execution_count": null,
   "metadata": {
    "id": "_LKWcfSTjp00"
   },
   "outputs": [],
   "source": [
    "# Set random seed on the GPU\n",
    "if torch.cuda.is_available():\n",
    "  torch.cuda.manual_seed(1234)"
   ]
  },
  {
   "cell_type": "markdown",
   "metadata": {
    "id": "Ir9qSaj6it4n"
   },
   "source": [
    "\n",
    "### 5. Create two random tensors of shape `(2, 3)` and send them both to the GPU (you'll need access to a GPU for this). Set `torch.manual_seed(1234)` when creating the tensors (this doesn't have to be the GPU random seed). The output should be something like:\n",
    "\n",
    "```\n",
    "Device: cuda\n",
    "(tensor([[0.0290, 0.4019, 0.2598],\n",
    "         [0.3666, 0.0583, 0.7006]], device='cuda:0'),\n",
    " tensor([[0.0518, 0.4681, 0.6738],\n",
    "         [0.3315, 0.7837, 0.5631]], device='cuda:0'))\n",
    "```"
   ]
  },
  {
   "cell_type": "code",
   "execution_count": null,
   "metadata": {
    "colab": {
     "base_uri": "https://localhost:8080/"
    },
    "executionInfo": {
     "elapsed": 30,
     "status": "ok",
     "timestamp": 1748446174275,
     "user": {
      "displayName": "Nevil Patel",
      "userId": "00822694795505902856"
     },
     "user_tz": 300
    },
    "id": "azXExiFZj5nm",
    "outputId": "31b67d5c-27cc-45c7-d54a-7d3d498d0a0e"
   },
   "outputs": [
    {
     "name": "stdout",
     "output_type": "stream",
     "text": [
      "Device: cuda\n"
     ]
    },
    {
     "data": {
      "text/plain": [
       "(tensor([[0.0290, 0.4019, 0.2598],\n",
       "         [0.3666, 0.0583, 0.7006]], device='cuda:0'),\n",
       " tensor([[0.0518, 0.4681, 0.6738],\n",
       "         [0.3315, 0.7837, 0.5631]], device='cuda:0'))"
      ]
     },
     "execution_count": 18,
     "metadata": {},
     "output_type": "execute_result"
    }
   ],
   "source": [
    "# Set random seed\n",
    "torch.manual_seed(1234)\n",
    "\n",
    "# Check for access to GPU\n",
    "if torch.cuda.is_available():\n",
    "  device ='cuda'\n",
    "elif torch.backends.mps.is_available():\n",
    "  device = 'mps'\n",
    "else:\n",
    "  device = 'cpu'\n",
    "print(f'Device: {device}')\n",
    "\n",
    "# Create two random tensors on GPU\n",
    "random_tensor_3 = torch.rand(size=(2, 3)).to(device)\n",
    "random_tensor_4 = torch.rand(size=(2, 3)).to(device)\n",
    "\n",
    "random_tensor_3, random_tensor_4"
   ]
  },
  {
   "cell_type": "markdown",
   "metadata": {
    "id": "5TlAxeiSiu1y"
   },
   "source": [
    "\n",
    "### 6. Perform a matrix multiplication on the tensors you created in 6 (again, you may have to adjust the shapes of one of the tensors).\n",
    "\n",
    "The output should look like:\n",
    "```\n",
    "(tensor([[0.3647, 0.4709],\n",
    "         [0.5184, 0.5617]], device='cuda:0'), torch.Size([2, 2]))\n",
    "```"
   ]
  },
  {
   "cell_type": "code",
   "execution_count": null,
   "metadata": {
    "colab": {
     "base_uri": "https://localhost:8080/"
    },
    "executionInfo": {
     "elapsed": 39,
     "status": "ok",
     "timestamp": 1748446193768,
     "user": {
      "displayName": "Nevil Patel",
      "userId": "00822694795505902856"
     },
     "user_tz": 300
    },
    "id": "fAeG7ox0lHEO",
    "outputId": "4bc200c1-44b7-442b-ff13-02396c6a6f65"
   },
   "outputs": [
    {
     "data": {
      "text/plain": [
       "(tensor([[0.3647, 0.4709],\n",
       "         [0.5184, 0.5617]], device='cuda:0'),\n",
       " torch.Size([2, 2]))"
      ]
     },
     "execution_count": 20,
     "metadata": {},
     "output_type": "execute_result"
    }
   ],
   "source": [
    "# Perform matmul\n",
    "output_tensor = random_tensor_3 @ random_tensor_4.T\n",
    "output_tensor, output_tensor.shape"
   ]
  },
  {
   "cell_type": "markdown",
   "metadata": {
    "id": "G7qfa5CSivwg"
   },
   "source": [
    "### 7. Find the maximum and minimum values of the output of 7."
   ]
  },
  {
   "cell_type": "code",
   "execution_count": null,
   "metadata": {
    "colab": {
     "base_uri": "https://localhost:8080/"
    },
    "executionInfo": {
     "elapsed": 130,
     "status": "ok",
     "timestamp": 1748446204515,
     "user": {
      "displayName": "Nevil Patel",
      "userId": "00822694795505902856"
     },
     "user_tz": 300
    },
    "id": "Fu8_3mZpllOd",
    "outputId": "4e0cc5fe-a159-4dd5-b4f8-311fadc62727"
   },
   "outputs": [
    {
     "name": "stdout",
     "output_type": "stream",
     "text": [
      "tensor(0.5617, device='cuda:0')\n",
      "tensor(0.3647, device='cuda:0')\n"
     ]
    }
   ],
   "source": [
    "# Find max\n",
    "print(output_tensor.max())\n",
    "\n",
    "# Find min\n",
    "print(output_tensor.min())"
   ]
  },
  {
   "cell_type": "markdown",
   "metadata": {
    "id": "wrTj5FgNiw47"
   },
   "source": [
    "### 8. Find the maximum and minimum index values of the output of 7."
   ]
  },
  {
   "cell_type": "code",
   "execution_count": null,
   "metadata": {
    "colab": {
     "base_uri": "https://localhost:8080/"
    },
    "executionInfo": {
     "elapsed": 21,
     "status": "ok",
     "timestamp": 1748446207063,
     "user": {
      "displayName": "Nevil Patel",
      "userId": "00822694795505902856"
     },
     "user_tz": 300
    },
    "id": "CCEKt4K2lsfQ",
    "outputId": "6913eda2-941c-4ffb-e0b5-34171a54582f"
   },
   "outputs": [
    {
     "name": "stdout",
     "output_type": "stream",
     "text": [
      "tensor(3, device='cuda:0')\n",
      "tensor(0, device='cuda:0')\n"
     ]
    }
   ],
   "source": [
    "# Find arg max\n",
    "print(output_tensor.argmax())\n",
    "\n",
    "# Find arg min\n",
    "print(output_tensor.argmin())"
   ]
  },
  {
   "cell_type": "markdown",
   "metadata": {
    "id": "hmeybz4uixy7"
   },
   "source": [
    "\n",
    "### 9. Make a random tensor with shape `(1, 1, 1, 10)` and then create a new tensor with all the `1` dimensions removed to be left with a tensor of shape `(10)`. Set the seed to `7` when you create it and print out the first tensor and it's shape as well as the second tensor and it's shape.\n",
    "\n",
    "The output should look like:\n",
    "\n",
    "```\n",
    "tensor([[[[0.5349, 0.1988, 0.6592, 0.6569, 0.2328, 0.4251, 0.2071, 0.6297,\n",
    "           0.3653, 0.8513]]]]) torch.Size([1, 1, 1, 10])\n",
    "tensor([0.5349, 0.1988, 0.6592, 0.6569, 0.2328, 0.4251, 0.2071, 0.6297, 0.3653,\n",
    "        0.8513]) torch.Size([10])\n",
    "```"
   ]
  },
  {
   "cell_type": "code",
   "execution_count": null,
   "metadata": {
    "colab": {
     "base_uri": "https://localhost:8080/"
    },
    "executionInfo": {
     "elapsed": 25,
     "status": "ok",
     "timestamp": 1748446286640,
     "user": {
      "displayName": "Nevil Patel",
      "userId": "00822694795505902856"
     },
     "user_tz": 300
    },
    "id": "TQ9zbRzVl1jV",
    "outputId": "dd09ad22-3d36-4200-a533-ecf89f222743"
   },
   "outputs": [
    {
     "name": "stdout",
     "output_type": "stream",
     "text": [
      "tensor([[[[0.5349, 0.1988, 0.6592, 0.6569, 0.2328, 0.4251, 0.2071, 0.6297,\n",
      "           0.3653, 0.8513]]]]) torch.Size([1, 1, 1, 10])\n",
      "tensor([0.5349, 0.1988, 0.6592, 0.6569, 0.2328, 0.4251, 0.2071, 0.6297, 0.3653,\n",
      "        0.8513]) torch.Size([10])\n"
     ]
    }
   ],
   "source": [
    "# Set seed\n",
    "torch.manual_seed(7)\n",
    "\n",
    "# Create random tensor\n",
    "random_tensor = torch.rand(size=(1, 1, 1, 10))\n",
    "\n",
    "# Remove single dimensions\n",
    "squeezed_random_tensor = torch.squeeze(random_tensor)\n",
    "\n",
    "# Print out tensors and their shapes\n",
    "print(random_tensor, random_tensor.shape)\n",
    "print(squeezed_random_tensor, squeezed_random_tensor.shape)"
   ]
  }
 ],
 "metadata": {
  "accelerator": "GPU",
  "colab": {
   "provenance": []
  },
  "kernelspec": {
   "display_name": "Python 3 (ipykernel)",
   "language": "python",
   "name": "python3"
  },
  "language_info": {
   "codemirror_mode": {
    "name": "ipython",
    "version": 3
   },
   "file_extension": ".py",
   "mimetype": "text/x-python",
   "name": "python",
   "nbconvert_exporter": "python",
   "pygments_lexer": "ipython3",
   "version": "3.11.7"
  }
 },
 "nbformat": 4,
 "nbformat_minor": 1
}
